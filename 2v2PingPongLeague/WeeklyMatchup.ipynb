{
 "cells": [
  {
   "cell_type": "code",
   "execution_count": 22,
   "metadata": {
    "collapsed": true
   },
   "outputs": [],
   "source": [
    "import pandas as pd\n",
    "import random\n",
    "from matching import Player\n",
    "from matching.games import StableRoommates\n"
   ]
  },
  {
   "cell_type": "code",
   "execution_count": 23,
   "outputs": [],
   "source": [
    "df = pd.read_excel(\"2v2PingPongLeague-FinalExcel.xlsx\", sheet_name= 'League Table')\n",
    "\n",
    "# number of players must be a multiple of 4 to make sure everybody plays a game every match-week\n",
    "players = df[\"Players\"].tolist()\n",
    "my_dict = dict()\n",
    "\n",
    "# definition of quartiles\n",
    "quartileOne = players[0:int((len(players)/4))]\n",
    "quartileTwo = players[int((len(players)/4)):int((len(players)/2))]\n",
    "quartileThree = players[int((len(players)/2)):int(3 * (len(players)/4))]\n",
    "quartileFour = players[int(3 * (len(players)/4)):int(len(players))]\n",
    "\n",
    "# read Excel file with Players' previous teammates\n",
    "dfPlayedWith = pd.read_excel(\"2v2PingPongLeague-FinalExcel.xlsx\", sheet_name= 'Players Teamates')"
   ],
   "metadata": {
    "collapsed": false
   }
  },
  {
   "cell_type": "code",
   "execution_count": 24,
   "outputs": [],
   "source": [
    "for name in players:\n",
    "    playersRandomized = df[\"Players\"].tolist()\n",
    "    random.shuffle(playersRandomized)\n",
    "    playersRandomized.remove(name)\n",
    "    if name in quartileOne:\n",
    "        for i in quartileOne:\n",
    "            try:\n",
    "                playersRandomized.remove(i)\n",
    "                playersRandomized.append(i)\n",
    "            except ValueError:\n",
    "                pass\n",
    "    elif name in quartileTwo:\n",
    "        for i in quartileTwo:\n",
    "            try:\n",
    "                playersRandomized.remove(i)\n",
    "                playersRandomized.append(i)\n",
    "            except ValueError:\n",
    "                pass\n",
    "    elif name in quartileThree:\n",
    "        for i in quartileThree:\n",
    "            try:\n",
    "                playersRandomized.remove(i)\n",
    "                playersRandomized.append(i)\n",
    "            except ValueError:\n",
    "                pass\n",
    "    else:\n",
    "        for i in quartileFour:\n",
    "            try:\n",
    "                playersRandomized.remove(i)\n",
    "                playersRandomized.append(i)\n",
    "            except ValueError:\n",
    "                pass\n",
    "\n",
    "    row_num_list = dfPlayedWith[dfPlayedWith[\"Players\"] == name].index.tolist()\n",
    "    row_index = row_num_list[0]\n",
    "    removed_players = []\n",
    "\n",
    "    for column in dfPlayedWith.columns:\n",
    "        if column == \"Players\":\n",
    "            continue\n",
    "        removed_players.append(dfPlayedWith.at[row_index, column])\n",
    "\n",
    "    for teammate in removed_players:\n",
    "        playersRandomized.remove(teammate)\n",
    "        playersRandomized.append(teammate)\n",
    "\n",
    "    my_dict[name] = playersRandomized"
   ],
   "metadata": {
    "collapsed": false
   }
  },
  {
   "cell_type": "code",
   "execution_count": 25,
   "outputs": [
    {
     "data": {
      "text/plain": "{Peck: Tejera, Coslet: Huang, Kearney: McKillop, Garcia: Lu, Legum: Snyder, Yang: Zanfanga, Rodrigo: Knopping, Conover: Montemayor, Pothireddy: Challa, Goldfischer: Munoz, Alex_Frumo: Breach, Knopping: Rodrigo, McKillop: Kearney, Huang: Coslet, Tejera: Peck, Zanfanga: Yang, Quaisair: Kronenberg, Shi: Addepalli, Munoz: Goldfischer, Cornell: Andreev, Corddry: Methot, Snyder: Legum, Montemayor: Conover, Jonny_Frumo: Szerdahelyi, Bauman: Schrier, Scurio: Colavito, Challa: Pothireddy, Andreev: Cornell, Kronenberg: Quaisair, Schrier: Bauman, Breach: Alex_Frumo, Addepalli: Shi, Methot: Corddry, Szerdahelyi: Jonny_Frumo, Lu: Garcia, Colavito: Scurio}"
     },
     "execution_count": 25,
     "metadata": {},
     "output_type": "execute_result"
    }
   ],
   "source": [
    "game = StableRoommates.create_from_dictionary(my_dict)\n",
    "game.solve()"
   ],
   "metadata": {
    "collapsed": false
   }
  }
 ],
 "metadata": {
  "kernelspec": {
   "display_name": "Python 3",
   "language": "python",
   "name": "python3"
  },
  "language_info": {
   "codemirror_mode": {
    "name": "ipython",
    "version": 2
   },
   "file_extension": ".py",
   "mimetype": "text/x-python",
   "name": "python",
   "nbconvert_exporter": "python",
   "pygments_lexer": "ipython2",
   "version": "2.7.6"
  }
 },
 "nbformat": 4,
 "nbformat_minor": 0
}
